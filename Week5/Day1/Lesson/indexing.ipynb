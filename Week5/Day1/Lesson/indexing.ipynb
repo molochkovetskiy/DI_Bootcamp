{
 "cells": [
  {
   "cell_type": "code",
   "execution_count": 1,
   "id": "f74a2629-d3a9-455f-8e03-dfc6e3b91f63",
   "metadata": {},
   "outputs": [],
   "source": [
    "import numpy as np"
   ]
  },
  {
   "cell_type": "markdown",
   "id": "2736d499-cbfb-476a-9b16-c86c45953a7c",
   "metadata": {},
   "source": [
    "## One dimensional indexing"
   ]
  },
  {
   "cell_type": "code",
   "execution_count": 2,
   "id": "59c355ac-5fb5-4d0d-8f4a-c55ad571fcd7",
   "metadata": {},
   "outputs": [],
   "source": [
    "one_dim_array = np.arange(11)"
   ]
  },
  {
   "cell_type": "code",
   "execution_count": 3,
   "id": "134bcada-4866-4e42-9014-5a7760475927",
   "metadata": {},
   "outputs": [
    {
     "data": {
      "text/plain": [
       "array([ 0,  1,  2,  3,  4,  5,  6,  7,  8,  9, 10])"
      ]
     },
     "execution_count": 3,
     "metadata": {},
     "output_type": "execute_result"
    }
   ],
   "source": [
    "one_dim_array"
   ]
  },
  {
   "cell_type": "code",
   "execution_count": 6,
   "id": "91bf707e-b710-4876-8e36-d90a214f54e1",
   "metadata": {},
   "outputs": [
    {
     "data": {
      "text/plain": [
       "0"
      ]
     },
     "execution_count": 6,
     "metadata": {},
     "output_type": "execute_result"
    }
   ],
   "source": [
    "one_dim_array[0] # first"
   ]
  },
  {
   "cell_type": "code",
   "execution_count": 7,
   "id": "17d3a72b-7cf7-428f-97f6-4988b0a085e1",
   "metadata": {},
   "outputs": [
    {
     "data": {
      "text/plain": [
       "10"
      ]
     },
     "execution_count": 7,
     "metadata": {},
     "output_type": "execute_result"
    }
   ],
   "source": [
    "one_dim_array[-1] # last"
   ]
  },
  {
   "cell_type": "code",
   "execution_count": 9,
   "id": "7537d82a-fb5d-41fb-b044-be19b057b773",
   "metadata": {},
   "outputs": [
    {
     "data": {
      "text/plain": [
       "array([ 2,  4,  6,  8, 10])"
      ]
     },
     "execution_count": 9,
     "metadata": {},
     "output_type": "execute_result"
    }
   ],
   "source": [
    "one_dim_array[2::2]"
   ]
  },
  {
   "cell_type": "markdown",
   "id": "07f850a8-d6c2-422b-b75d-f5a9a4249642",
   "metadata": {},
   "source": [
    "## Two dimensional indexing"
   ]
  },
  {
   "cell_type": "code",
   "execution_count": 11,
   "id": "4a156043-ec39-4071-a089-2d3eca8cd2a7",
   "metadata": {},
   "outputs": [],
   "source": [
    "two_dim_array = np.arange(10)"
   ]
  },
  {
   "cell_type": "code",
   "execution_count": 12,
   "id": "a6aeb1e0-ea36-41d9-9fe5-39fa48fa72b5",
   "metadata": {},
   "outputs": [
    {
     "data": {
      "text/plain": [
       "array([0, 1, 2, 3, 4, 5, 6, 7, 8, 9])"
      ]
     },
     "execution_count": 12,
     "metadata": {},
     "output_type": "execute_result"
    }
   ],
   "source": [
    "two_dim_array"
   ]
  },
  {
   "cell_type": "code",
   "execution_count": 13,
   "id": "e60ec077-d22b-4e78-8dc0-ecf60c8ac849",
   "metadata": {},
   "outputs": [
    {
     "data": {
      "text/plain": [
       "10"
      ]
     },
     "execution_count": 13,
     "metadata": {},
     "output_type": "execute_result"
    }
   ],
   "source": [
    "two_dim_array.size"
   ]
  },
  {
   "cell_type": "code",
   "execution_count": 14,
   "id": "97cb4249-3fc5-4d40-bb16-aee576feac63",
   "metadata": {},
   "outputs": [
    {
     "data": {
      "text/plain": [
       "array([[0, 1, 2, 3, 4],\n",
       "       [5, 6, 7, 8, 9]])"
      ]
     },
     "execution_count": 14,
     "metadata": {},
     "output_type": "execute_result"
    }
   ],
   "source": [
    "two_dim_array.reshape((2,5))"
   ]
  },
  {
   "cell_type": "code",
   "execution_count": 16,
   "id": "07a2b212-acfd-447e-ad9e-f1de2e1b7fb1",
   "metadata": {},
   "outputs": [],
   "source": [
    "two_dim_array = two_dim_array.reshape((5,2))"
   ]
  },
  {
   "cell_type": "code",
   "execution_count": 17,
   "id": "10bf7ea1-fe30-4175-b76d-bf5a95850588",
   "metadata": {},
   "outputs": [
    {
     "data": {
      "text/plain": [
       "array([[0, 1],\n",
       "       [2, 3],\n",
       "       [4, 5],\n",
       "       [6, 7],\n",
       "       [8, 9]])"
      ]
     },
     "execution_count": 17,
     "metadata": {},
     "output_type": "execute_result"
    }
   ],
   "source": [
    "two_dim_array"
   ]
  },
  {
   "cell_type": "code",
   "execution_count": 20,
   "id": "de6b8d4b-aaf4-410c-a458-178e4fc02f4a",
   "metadata": {},
   "outputs": [
    {
     "data": {
      "text/plain": [
       "array([[2, 3],\n",
       "       [4, 5]])"
      ]
     },
     "execution_count": 20,
     "metadata": {},
     "output_type": "execute_result"
    }
   ],
   "source": [
    "two_dim_array[1:3] # indexing through rows"
   ]
  },
  {
   "cell_type": "code",
   "execution_count": 22,
   "id": "6d1aa35a-64e1-484e-8afe-d83cfa387130",
   "metadata": {},
   "outputs": [
    {
     "data": {
      "text/plain": [
       "array([2, 4])"
      ]
     },
     "execution_count": 22,
     "metadata": {},
     "output_type": "execute_result"
    }
   ],
   "source": [
    "two_dim_array[1:3, 0]  # indexing through rows + takingthe 1st item"
   ]
  },
  {
   "cell_type": "code",
   "execution_count": 24,
   "id": "a90671d8-44c3-4f77-9632-92dbba088efe",
   "metadata": {},
   "outputs": [
    {
     "data": {
      "text/plain": [
       "array([[8, 9],\n",
       "       [6, 7],\n",
       "       [4, 5],\n",
       "       [2, 3],\n",
       "       [0, 1]])"
      ]
     },
     "execution_count": 24,
     "metadata": {},
     "output_type": "execute_result"
    }
   ],
   "source": [
    "two_dim_array[::-1] # reversing the array"
   ]
  },
  {
   "cell_type": "code",
   "execution_count": 25,
   "id": "9be3bf47-d44f-4a29-a838-bfba98313458",
   "metadata": {},
   "outputs": [
    {
     "data": {
      "text/plain": [
       "array([[9, 8],\n",
       "       [7, 6],\n",
       "       [5, 4],\n",
       "       [3, 2],\n",
       "       [1, 0]])"
      ]
     },
     "execution_count": 25,
     "metadata": {},
     "output_type": "execute_result"
    }
   ],
   "source": [
    "two_dim_array[::-1, ::-1]"
   ]
  },
  {
   "cell_type": "markdown",
   "id": "86c3f437-3fd6-4ad0-a049-f27c7cda0fea",
   "metadata": {},
   "source": [
    "# 1."
   ]
  },
  {
   "cell_type": "code",
   "execution_count": 31,
   "id": "da2db695-8348-47c8-90dc-c5c69ebdc7a9",
   "metadata": {},
   "outputs": [],
   "source": [
    "array_1d = np.arange(10, 21)"
   ]
  },
  {
   "cell_type": "code",
   "execution_count": 32,
   "id": "b0685ccd-8732-4ea4-be63-dedc6912ef51",
   "metadata": {},
   "outputs": [
    {
     "data": {
      "text/plain": [
       "13"
      ]
     },
     "execution_count": 32,
     "metadata": {},
     "output_type": "execute_result"
    }
   ],
   "source": [
    "array_1d[3]"
   ]
  },
  {
   "cell_type": "markdown",
   "id": "0e02f360-c9fe-4620-9f21-f0f9f722cab5",
   "metadata": {},
   "source": [
    "# 2."
   ]
  },
  {
   "cell_type": "code",
   "execution_count": 33,
   "id": "188e258c-0095-46bb-87c6-868046e8d71f",
   "metadata": {},
   "outputs": [],
   "source": [
    "array_2d = np.array([[1, 2, 3], [4, 5, 6], [7, 8, 9]])"
   ]
  },
  {
   "cell_type": "code",
   "execution_count": 35,
   "id": "67772c59-2fd1-4297-90c4-12b71399c401",
   "metadata": {},
   "outputs": [
    {
     "data": {
      "text/plain": [
       "6"
      ]
     },
     "execution_count": 35,
     "metadata": {},
     "output_type": "execute_result"
    }
   ],
   "source": [
    "array_2d[1, 2]"
   ]
  },
  {
   "cell_type": "markdown",
   "id": "47844240-2842-41de-9ac3-8313aaf81a75",
   "metadata": {},
   "source": [
    "# 3."
   ]
  },
  {
   "cell_type": "code",
   "execution_count": 36,
   "id": "6537fb59-16ee-4934-bbeb-cb81bbc9558c",
   "metadata": {},
   "outputs": [],
   "source": [
    "array_1d = np.arange(10)"
   ]
  },
  {
   "cell_type": "code",
   "execution_count": 38,
   "id": "4a7bae37-adc8-4634-a75c-9a79076277a2",
   "metadata": {},
   "outputs": [
    {
     "data": {
      "text/plain": [
       "array([2, 3, 4, 5])"
      ]
     },
     "execution_count": 38,
     "metadata": {},
     "output_type": "execute_result"
    }
   ],
   "source": [
    "array_1d[2:6]"
   ]
  },
  {
   "cell_type": "markdown",
   "id": "fe0da774-fe63-41f3-b1fd-705c1474dfc1",
   "metadata": {},
   "source": [
    "# 4."
   ]
  },
  {
   "cell_type": "code",
   "execution_count": 39,
   "id": "cc827702-e42a-408e-ad03-c22932fa90e5",
   "metadata": {},
   "outputs": [],
   "source": [
    "array_2d = np.array([[1, 2, 3], [4, 5, 6], [7, 8, 9]])"
   ]
  },
  {
   "cell_type": "code",
   "execution_count": 42,
   "id": "421341c0-6c38-4785-8e5a-bc38c0ac8534",
   "metadata": {},
   "outputs": [
    {
     "data": {
      "text/plain": [
       "array([[2, 3],\n",
       "       [5, 6]])"
      ]
     },
     "execution_count": 42,
     "metadata": {},
     "output_type": "execute_result"
    }
   ],
   "source": [
    "array_2d[:2, -2:]"
   ]
  }
 ],
 "metadata": {
  "kernelspec": {
   "display_name": "Python 3 (ipykernel)",
   "language": "python",
   "name": "python3"
  },
  "language_info": {
   "codemirror_mode": {
    "name": "ipython",
    "version": 3
   },
   "file_extension": ".py",
   "mimetype": "text/x-python",
   "name": "python",
   "nbconvert_exporter": "python",
   "pygments_lexer": "ipython3",
   "version": "3.11.4"
  }
 },
 "nbformat": 4,
 "nbformat_minor": 5
}
