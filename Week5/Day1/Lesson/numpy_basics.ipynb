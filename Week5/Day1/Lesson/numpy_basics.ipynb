{
 "cells": [
  {
   "cell_type": "markdown",
   "id": "375b5ed7-8e01-45f7-a177-6c6457188aec",
   "metadata": {},
   "source": [
    "## Intro"
   ]
  },
  {
   "cell_type": "code",
   "execution_count": 3,
   "id": "45b795d6-01da-4afc-9b8a-a6a33f28bb08",
   "metadata": {},
   "outputs": [],
   "source": [
    "import numpy as np # Numerical Python"
   ]
  },
  {
   "cell_type": "code",
   "execution_count": 4,
   "id": "38d6afa3-99ed-4562-9366-5d582c969c28",
   "metadata": {},
   "outputs": [],
   "source": [
    "array = np.array([1,2,3,4,5]) # numpy array"
   ]
  },
  {
   "cell_type": "code",
   "execution_count": 5,
   "id": "196cf95b-50d6-4df8-b3fa-67c9c57f7986",
   "metadata": {},
   "outputs": [
    {
     "data": {
      "text/plain": [
       "array([1, 2, 3, 4, 5])"
      ]
     },
     "execution_count": 5,
     "metadata": {},
     "output_type": "execute_result"
    }
   ],
   "source": [
    "array"
   ]
  },
  {
   "cell_type": "code",
   "execution_count": 6,
   "id": "2d342394-47df-4805-90ef-090d4e54c215",
   "metadata": {},
   "outputs": [],
   "source": [
    "array2 = np.array([1,2,3,4,5])"
   ]
  },
  {
   "cell_type": "code",
   "execution_count": 7,
   "id": "cd6e255a-781e-4ca4-a4bb-14171efd425b",
   "metadata": {},
   "outputs": [
    {
     "data": {
      "text/plain": [
       "array([ 1,  4,  9, 16, 25])"
      ]
     },
     "execution_count": 7,
     "metadata": {},
     "output_type": "execute_result"
    }
   ],
   "source": [
    "array * array2"
   ]
  },
  {
   "cell_type": "markdown",
   "id": "8c696783-e011-46cb-89f0-eec76e341eb9",
   "metadata": {},
   "source": [
    "## Numpy array attributes"
   ]
  },
  {
   "cell_type": "code",
   "execution_count": 8,
   "id": "df49b9fe-686d-45a9-8d64-842fb93b5722",
   "metadata": {},
   "outputs": [
    {
     "data": {
      "text/plain": [
       "1"
      ]
     },
     "execution_count": 8,
     "metadata": {},
     "output_type": "execute_result"
    }
   ],
   "source": [
    "array.ndim # number of dimensions"
   ]
  },
  {
   "cell_type": "code",
   "execution_count": 9,
   "id": "7d4e0cc8-46b6-4754-884a-8d2a4a130e3e",
   "metadata": {},
   "outputs": [],
   "source": [
    "two_dim_array = np.array([[1,2,3,4,5],[1,2,3,4,5],[1,2,3,4,5]])"
   ]
  },
  {
   "cell_type": "code",
   "execution_count": 10,
   "id": "301d60b0-8b63-4ddd-a1cf-a9c995c515f7",
   "metadata": {},
   "outputs": [
    {
     "data": {
      "text/plain": [
       "array([[1, 2, 3, 4, 5],\n",
       "       [1, 2, 3, 4, 5],\n",
       "       [1, 2, 3, 4, 5]])"
      ]
     },
     "execution_count": 10,
     "metadata": {},
     "output_type": "execute_result"
    }
   ],
   "source": [
    "two_dim_array\n"
   ]
  },
  {
   "cell_type": "code",
   "execution_count": 11,
   "id": "dfdb1c6a-80cb-4566-aaa6-8bc6e45a202d",
   "metadata": {},
   "outputs": [
    {
     "data": {
      "text/plain": [
       "2"
      ]
     },
     "execution_count": 11,
     "metadata": {},
     "output_type": "execute_result"
    }
   ],
   "source": [
    "two_dim_array.ndim"
   ]
  },
  {
   "cell_type": "code",
   "execution_count": 13,
   "id": "bebbfaa2-87e8-498a-ab98-e345ee271641",
   "metadata": {},
   "outputs": [
    {
     "data": {
      "text/plain": [
       "(5,)"
      ]
     },
     "execution_count": 13,
     "metadata": {},
     "output_type": "execute_result"
    }
   ],
   "source": [
    "# shape - amount of rows/columns etc.\n",
    "array.shape"
   ]
  },
  {
   "cell_type": "code",
   "execution_count": 14,
   "id": "809e1ae6-e084-49ea-9922-2faf0901d55e",
   "metadata": {},
   "outputs": [
    {
     "data": {
      "text/plain": [
       "(3, 5)"
      ]
     },
     "execution_count": 14,
     "metadata": {},
     "output_type": "execute_result"
    }
   ],
   "source": [
    "two_dim_array.shape"
   ]
  },
  {
   "cell_type": "code",
   "execution_count": 15,
   "id": "794f31f2-9657-4ed6-a6dc-677bc457c3b9",
   "metadata": {},
   "outputs": [
    {
     "data": {
      "text/plain": [
       "15"
      ]
     },
     "execution_count": 15,
     "metadata": {},
     "output_type": "execute_result"
    }
   ],
   "source": [
    "# size\n",
    "two_dim_array.size\n"
   ]
  },
  {
   "cell_type": "code",
   "execution_count": 16,
   "id": "a12ceff5-2218-4919-a20f-f6e3902292f5",
   "metadata": {},
   "outputs": [
    {
     "data": {
      "text/plain": [
       "dtype('int32')"
      ]
     },
     "execution_count": 16,
     "metadata": {},
     "output_type": "execute_result"
    }
   ],
   "source": [
    "# data type\n",
    "two_dim_array.dtype"
   ]
  },
  {
   "cell_type": "markdown",
   "id": "9a7a7c37-a2a0-4ab9-8dc2-4437fac7f3e7",
   "metadata": {},
   "source": [
    "### Converting array to different type"
   ]
  },
  {
   "cell_type": "code",
   "execution_count": 17,
   "id": "2d7aead3-1a76-49bb-8316-4117f5336f8b",
   "metadata": {},
   "outputs": [],
   "source": [
    "float_array = array.astype('float16')"
   ]
  },
  {
   "cell_type": "code",
   "execution_count": 18,
   "id": "e98dca44-71e5-4cfe-b996-31b47c9a2011",
   "metadata": {},
   "outputs": [
    {
     "data": {
      "text/plain": [
       "dtype('float16')"
      ]
     },
     "execution_count": 18,
     "metadata": {},
     "output_type": "execute_result"
    }
   ],
   "source": [
    "float_array.dtype"
   ]
  },
  {
   "cell_type": "code",
   "execution_count": 20,
   "id": "2cfa79aa-5f93-4464-bfeb-d6021a5983ae",
   "metadata": {},
   "outputs": [
    {
     "data": {
      "text/plain": [
       "array([1., 2., 3., 4., 5.], dtype=float16)"
      ]
     },
     "execution_count": 20,
     "metadata": {},
     "output_type": "execute_result"
    }
   ],
   "source": [
    "float_array"
   ]
  },
  {
   "cell_type": "markdown",
   "id": "d8794b66-399c-487e-992f-b8429001fadd",
   "metadata": {},
   "source": [
    "## Creating arrays\n"
   ]
  },
  {
   "cell_type": "code",
   "execution_count": 22,
   "id": "c4a226eb-735f-4ae0-80c1-4e84c93eca82",
   "metadata": {},
   "outputs": [],
   "source": [
    "my_array = np.arange(1, 10)"
   ]
  },
  {
   "cell_type": "code",
   "execution_count": 24,
   "id": "ff9c68c5-8137-47d7-b6a3-60cadf50a5de",
   "metadata": {},
   "outputs": [
    {
     "data": {
      "text/plain": [
       "array([1, 2, 3, 4, 5, 6, 7, 8, 9])"
      ]
     },
     "execution_count": 24,
     "metadata": {},
     "output_type": "execute_result"
    }
   ],
   "source": [
    "my_array"
   ]
  },
  {
   "cell_type": "markdown",
   "id": "65ae2f66-0d5a-4071-8592-2e6f997da37e",
   "metadata": {},
   "source": [
    "# Exercises"
   ]
  },
  {
   "cell_type": "markdown",
   "id": "7a512d57-ac03-47b1-a28a-c5d005004b39",
   "metadata": {},
   "source": [
    "# 1."
   ]
  },
  {
   "cell_type": "code",
   "execution_count": 4,
   "id": "6cad82d4-499d-4bed-a6bd-21cdc19d3b20",
   "metadata": {},
   "outputs": [],
   "source": [
    "dim_10_array = np.arange(10, 21)"
   ]
  },
  {
   "cell_type": "code",
   "execution_count": 5,
   "id": "f3dea1a2-d811-47dd-ac0a-3d20047edf6b",
   "metadata": {},
   "outputs": [
    {
     "data": {
      "text/plain": [
       "array([10, 11, 12, 13, 14, 15, 16, 17, 18, 19, 20])"
      ]
     },
     "execution_count": 5,
     "metadata": {},
     "output_type": "execute_result"
    }
   ],
   "source": [
    "dim_10_array"
   ]
  },
  {
   "cell_type": "markdown",
   "id": "e3c1a32f-12c8-424c-a55c-2be1640a6470",
   "metadata": {},
   "source": [
    "# 2."
   ]
  },
  {
   "cell_type": "code",
   "execution_count": 6,
   "id": "eb88341e-18fc-4817-987d-4558881c6f50",
   "metadata": {},
   "outputs": [
    {
     "data": {
      "text/plain": [
       "1"
      ]
     },
     "execution_count": 6,
     "metadata": {},
     "output_type": "execute_result"
    }
   ],
   "source": [
    "dim_10_array.ndim"
   ]
  },
  {
   "cell_type": "code",
   "execution_count": 7,
   "id": "7aa0d6e1-4338-4675-8d26-894cf2e75f3e",
   "metadata": {},
   "outputs": [
    {
     "data": {
      "text/plain": [
       "(11,)"
      ]
     },
     "execution_count": 7,
     "metadata": {},
     "output_type": "execute_result"
    }
   ],
   "source": [
    "dim_10_array.shape"
   ]
  },
  {
   "cell_type": "code",
   "execution_count": 8,
   "id": "62841d87-5f42-4a8d-8988-97bd82cd25c0",
   "metadata": {},
   "outputs": [
    {
     "data": {
      "text/plain": [
       "11"
      ]
     },
     "execution_count": 8,
     "metadata": {},
     "output_type": "execute_result"
    }
   ],
   "source": [
    "dim_10_array.size"
   ]
  },
  {
   "cell_type": "code",
   "execution_count": 9,
   "id": "dcd8e686-2104-42b6-ada8-6d4487c51300",
   "metadata": {},
   "outputs": [
    {
     "data": {
      "text/plain": [
       "dtype('int32')"
      ]
     },
     "execution_count": 9,
     "metadata": {},
     "output_type": "execute_result"
    }
   ],
   "source": [
    "dim_10_array.dtype"
   ]
  },
  {
   "cell_type": "markdown",
   "id": "a7a9ec75-0eca-45d3-9f07-46f7dec72f16",
   "metadata": {},
   "source": [
    "# 3."
   ]
  },
  {
   "cell_type": "code",
   "execution_count": 10,
   "id": "955e4ed4-e1e8-431f-8647-b99b060ee6bd",
   "metadata": {},
   "outputs": [],
   "source": [
    "dim_10_array_float = np.arange(10, 21, dtype='float16')"
   ]
  },
  {
   "cell_type": "code",
   "execution_count": 11,
   "id": "196a2919-ce0c-422b-9cb5-efabff2b658d",
   "metadata": {},
   "outputs": [
    {
     "data": {
      "text/plain": [
       "dtype('float16')"
      ]
     },
     "execution_count": 11,
     "metadata": {},
     "output_type": "execute_result"
    }
   ],
   "source": [
    "dim_10_array_float.dtype"
   ]
  },
  {
   "cell_type": "code",
   "execution_count": 12,
   "id": "fd4b83c0-8fc0-4836-9dc8-3c41eba0d004",
   "metadata": {},
   "outputs": [],
   "source": [
    "int_array = dim_10_array_float.astype('int32')"
   ]
  },
  {
   "cell_type": "code",
   "execution_count": 13,
   "id": "5ec4f39d-55e5-4d3d-9e70-1342fbeac0bf",
   "metadata": {},
   "outputs": [
    {
     "data": {
      "text/plain": [
       "dtype('int32')"
      ]
     },
     "execution_count": 13,
     "metadata": {},
     "output_type": "execute_result"
    }
   ],
   "source": [
    "int_array.dtype"
   ]
  },
  {
   "cell_type": "code",
   "execution_count": 14,
   "id": "039a3cba-3766-4f67-b5ce-b2a33fc9e12a",
   "metadata": {},
   "outputs": [
    {
     "data": {
      "text/plain": [
       "array([10., 11., 12., 13., 14., 15., 16., 17., 18., 19., 20.],\n",
       "      dtype=float16)"
      ]
     },
     "execution_count": 14,
     "metadata": {},
     "output_type": "execute_result"
    }
   ],
   "source": [
    "dim_10_array_float"
   ]
  },
  {
   "cell_type": "markdown",
   "id": "d223a104-d421-41cc-9a05-5f3ca30a40dc",
   "metadata": {},
   "source": [
    "# 4."
   ]
  },
  {
   "cell_type": "code",
   "execution_count": 15,
   "id": "61af92cf-43fe-4aa2-a462-a3665ae5f23f",
   "metadata": {},
   "outputs": [],
   "source": [
    "double_array = np.multiply(int_array, 2)"
   ]
  },
  {
   "cell_type": "code",
   "execution_count": 16,
   "id": "3338fc8c-f179-4a7e-b656-40a7d4194a89",
   "metadata": {},
   "outputs": [
    {
     "data": {
      "text/plain": [
       "array([20, 22, 24, 26, 28, 30, 32, 34, 36, 38, 40])"
      ]
     },
     "execution_count": 16,
     "metadata": {},
     "output_type": "execute_result"
    }
   ],
   "source": [
    "double_array"
   ]
  },
  {
   "cell_type": "code",
   "execution_count": null,
   "id": "b7440706-5bf9-4d54-9dcc-795b05961ff7",
   "metadata": {},
   "outputs": [],
   "source": []
  }
 ],
 "metadata": {
  "kernelspec": {
   "display_name": "Python 3 (ipykernel)",
   "language": "python",
   "name": "python3"
  },
  "language_info": {
   "codemirror_mode": {
    "name": "ipython",
    "version": 3
   },
   "file_extension": ".py",
   "mimetype": "text/x-python",
   "name": "python",
   "nbconvert_exporter": "python",
   "pygments_lexer": "ipython3",
   "version": "3.11.4"
  }
 },
 "nbformat": 4,
 "nbformat_minor": 5
}
