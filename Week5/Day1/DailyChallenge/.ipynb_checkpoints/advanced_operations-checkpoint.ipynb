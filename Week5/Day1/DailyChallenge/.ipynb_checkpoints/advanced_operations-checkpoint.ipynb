{
 "cells": [
  {
   "cell_type": "code",
   "execution_count": 1,
   "id": "8ab81a5b-74d6-415f-9428-145ad34e32c2",
   "metadata": {},
   "outputs": [],
   "source": [
    "import numpy as np"
   ]
  },
  {
   "cell_type": "code",
   "execution_count": 2,
   "id": "3d7c9ffa-88b0-41c4-a230-8ee11885a2c1",
   "metadata": {},
   "outputs": [],
   "source": [
    "data = np.array(np.random.randint(1, 100, size=25)).reshape(5,5)"
   ]
  },
  {
   "cell_type": "code",
   "execution_count": 3,
   "id": "6ae8ab2c-7a2e-48e1-85ed-e7f6a447e75a",
   "metadata": {},
   "outputs": [
    {
     "data": {
      "text/plain": [
       "array([[23, 22, 70,  2, 53],\n",
       "       [45, 82, 30, 95, 84],\n",
       "       [76, 40,  7, 70, 38],\n",
       "       [18, 38, 19, 88, 29],\n",
       "       [12,  4,  8, 72, 29]])"
      ]
     },
     "execution_count": 3,
     "metadata": {},
     "output_type": "execute_result"
    }
   ],
   "source": [
    "data"
   ]
  },
  {
   "cell_type": "markdown",
   "id": "a7b38e91-6c69-410a-b2ca-0fc598e35b2a",
   "metadata": {},
   "source": [
    "# 1."
   ]
  },
  {
   "cell_type": "code",
   "execution_count": 7,
   "id": "5eca4c8f-0328-487f-a04e-6557c1f7c470",
   "metadata": {},
   "outputs": [],
   "source": [
    "data[[1, 3]] = data[[3, 1]]"
   ]
  },
  {
   "cell_type": "code",
   "execution_count": 8,
   "id": "4c52e9cd-28eb-413b-9be2-90fa9e7ae8fd",
   "metadata": {},
   "outputs": [
    {
     "data": {
      "text/plain": [
       "array([[23, 22, 70,  2, 53],\n",
       "       [18, 38, 19, 88, 29],\n",
       "       [12,  4,  8, 72, 29],\n",
       "       [45, 82, 30, 95, 84],\n",
       "       [76, 40,  7, 70, 38]])"
      ]
     },
     "execution_count": 8,
     "metadata": {},
     "output_type": "execute_result"
    }
   ],
   "source": [
    "data"
   ]
  },
  {
   "cell_type": "markdown",
   "id": "95cde640-2f6a-481a-bd6a-2b3426e70eaa",
   "metadata": {},
   "source": [
    "# 2."
   ]
  },
  {
   "cell_type": "code",
   "execution_count": 21,
   "id": "de34d3ff-1dbe-4223-8f70-55af53dcdc06",
   "metadata": {},
   "outputs": [],
   "source": [
    "data_normalization = np.round((data - np.min(data)) / (np.max(data) - np.min(data)), 2)"
   ]
  },
  {
   "cell_type": "code",
   "execution_count": 22,
   "id": "900fff74-bca5-43e0-a3a4-1a675b166a18",
   "metadata": {},
   "outputs": [
    {
     "data": {
      "text/plain": [
       "array([[0.23, 0.22, 0.73, 0.  , 0.55],\n",
       "       [0.17, 0.39, 0.18, 0.92, 0.29],\n",
       "       [0.11, 0.02, 0.06, 0.75, 0.29],\n",
       "       [0.46, 0.86, 0.3 , 1.  , 0.88],\n",
       "       [0.8 , 0.41, 0.05, 0.73, 0.39]])"
      ]
     },
     "execution_count": 22,
     "metadata": {},
     "output_type": "execute_result"
    }
   ],
   "source": [
    "data_normalization"
   ]
  },
  {
   "cell_type": "markdown",
   "id": "176f9b79-dab9-4dff-af37-e9e5bc61576f",
   "metadata": {},
   "source": [
    "# 3."
   ]
  },
  {
   "cell_type": "code",
   "execution_count": 27,
   "id": "39f0b40c-5732-4892-8d81-e36eccd3812a",
   "metadata": {},
   "outputs": [],
   "source": [
    "data_z_score_normalization = np.round(((data - np.mean(data)) / np.std(data)), 2)"
   ]
  },
  {
   "cell_type": "code",
   "execution_count": 28,
   "id": "4a2e555d-6750-4364-a805-3b16fb5f7eb8",
   "metadata": {},
   "outputs": [
    {
     "data": {
      "text/plain": [
       "array([[-0.67, -0.7 ,  0.97, -1.39,  0.38],\n",
       "       [-0.84, -0.14, -0.8 ,  1.59, -0.46],\n",
       "       [-1.05, -1.32, -1.19,  1.04, -0.46],\n",
       "       [ 0.1 ,  1.38, -0.42,  1.83,  1.45],\n",
       "       [ 1.17, -0.07, -1.22,  0.97, -0.14]])"
      ]
     },
     "execution_count": 28,
     "metadata": {},
     "output_type": "execute_result"
    }
   ],
   "source": [
    "data_z_score_normalization"
   ]
  },
  {
   "cell_type": "markdown",
   "id": "4da1990c-1660-4454-b55e-ccdedc30d740",
   "metadata": {},
   "source": [
    "# 4."
   ]
  },
  {
   "cell_type": "code",
   "execution_count": 36,
   "id": "f2a14bd3-7c7e-4c59-89b6-660c3620ec2e",
   "metadata": {},
   "outputs": [],
   "source": [
    "vector_of_matrix = np.ravel(data)"
   ]
  },
  {
   "cell_type": "code",
   "execution_count": 37,
   "id": "3ce67607-95a5-4155-ae8f-047483cf8721",
   "metadata": {},
   "outputs": [
    {
     "data": {
      "text/plain": [
       "array([23, 22, 70,  2, 53, 18, 38, 19, 88, 29, 12,  4,  8, 72, 29, 45, 82,\n",
       "       30, 95, 84, 76, 40,  7, 70, 38])"
      ]
     },
     "execution_count": 37,
     "metadata": {},
     "output_type": "execute_result"
    }
   ],
   "source": [
    "vector_of_matrix"
   ]
  },
  {
   "cell_type": "code",
   "execution_count": 39,
   "id": "edc531b1-9444-4474-943e-2236840d6310",
   "metadata": {},
   "outputs": [
    {
     "data": {
      "text/plain": [
       "[array([23, 22, 70,  2, 53]),\n",
       " array([18, 38, 19, 88, 29]),\n",
       " array([12,  4,  8, 72, 29]),\n",
       " array([45, 82, 30, 95, 84]),\n",
       " array([76, 40,  7, 70, 38])]"
      ]
     },
     "execution_count": 39,
     "metadata": {},
     "output_type": "execute_result"
    }
   ],
   "source": [
    "np.split(vector_of_matrix, 5)"
   ]
  },
  {
   "cell_type": "markdown",
   "id": "397ebc5f-fd3b-44f5-9b1a-1503c4b56d37",
   "metadata": {},
   "source": [
    "# 5."
   ]
  },
  {
   "cell_type": "code",
   "execution_count": 40,
   "id": "dc503107-8b56-4a33-8fe5-35e7b5a5f46e",
   "metadata": {},
   "outputs": [],
   "source": [
    "array1 = np.array(np.random.randint(1, 100, size=5))"
   ]
  },
  {
   "cell_type": "code",
   "execution_count": 41,
   "id": "d01c4baa-4b7a-4f22-bdca-b8daab6959f1",
   "metadata": {},
   "outputs": [
    {
     "data": {
      "text/plain": [
       "array([ 3, 40, 96, 95, 37])"
      ]
     },
     "execution_count": 41,
     "metadata": {},
     "output_type": "execute_result"
    }
   ],
   "source": [
    "array1"
   ]
  },
  {
   "cell_type": "code",
   "execution_count": 42,
   "id": "2cff7a4f-037f-4a8c-9db5-c64f4746858e",
   "metadata": {},
   "outputs": [],
   "source": [
    "array2 = np.array(np.random.randint(1, 100, size=5))"
   ]
  },
  {
   "cell_type": "code",
   "execution_count": 43,
   "id": "57a4f99e-a959-4d49-b0a4-d77e8336ac83",
   "metadata": {},
   "outputs": [
    {
     "data": {
      "text/plain": [
       "array([89, 32, 51, 88, 32])"
      ]
     },
     "execution_count": 43,
     "metadata": {},
     "output_type": "execute_result"
    }
   ],
   "source": [
    "array2"
   ]
  },
  {
   "cell_type": "code",
   "execution_count": 44,
   "id": "986f2147-06fb-49ad-8676-e6973ca1899e",
   "metadata": {},
   "outputs": [
    {
     "data": {
      "text/plain": [
       "15987"
      ]
     },
     "execution_count": 44,
     "metadata": {},
     "output_type": "execute_result"
    }
   ],
   "source": [
    "np.dot(array1, array2)"
   ]
  },
  {
   "cell_type": "markdown",
   "id": "d4cb7c69-c824-460d-b00b-d9661f89e52b",
   "metadata": {},
   "source": [
    "# 6."
   ]
  },
  {
   "cell_type": "code",
   "execution_count": 45,
   "id": "08d72e79-02f0-41f6-b8fe-e4743b5344ad",
   "metadata": {},
   "outputs": [],
   "source": [
    "data2 = np.array(np.random.randint(1, 100, size=9)).reshape(3,3)"
   ]
  },
  {
   "cell_type": "code",
   "execution_count": 46,
   "id": "3bf54f0c-0c7d-4a7c-b096-4d1b9cdc42a6",
   "metadata": {},
   "outputs": [
    {
     "data": {
      "text/plain": [
       "array([[84,  6, 79],\n",
       "       [68,  5, 39],\n",
       "       [60, 10, 52]])"
      ]
     },
     "execution_count": 46,
     "metadata": {},
     "output_type": "execute_result"
    }
   ],
   "source": [
    "data2"
   ]
  },
  {
   "cell_type": "code",
   "execution_count": 47,
   "id": "032bd742-55df-4387-8d07-3592f622c658",
   "metadata": {},
   "outputs": [],
   "source": [
    "matrix_multiplication = np.dot(data[2:, 2:], data2)"
   ]
  },
  {
   "cell_type": "code",
   "execution_count": 48,
   "id": "b67f3902-28f4-40d7-965d-2e6d97651573",
   "metadata": {},
   "outputs": [
    {
     "data": {
      "text/plain": [
       "array([[ 7308,   698,  4948],\n",
       "       [14020,  1495, 10443],\n",
       "       [ 7628,   772,  5259]])"
      ]
     },
     "execution_count": 48,
     "metadata": {},
     "output_type": "execute_result"
    }
   ],
   "source": [
    "matrix_multiplication"
   ]
  },
  {
   "cell_type": "markdown",
   "id": "c8d4b888-dc78-4155-b46b-768a6664391b",
   "metadata": {},
   "source": [
    "# 7."
   ]
  },
  {
   "cell_type": "code",
   "execution_count": 53,
   "id": "ee831800-6d6b-42a4-b163-ec6fd099e79a",
   "metadata": {},
   "outputs": [],
   "source": [
    "identity_matrix = np.eye(3)"
   ]
  },
  {
   "cell_type": "code",
   "execution_count": 54,
   "id": "d393ced3-1f3b-4c10-ac20-fc979e92dd24",
   "metadata": {},
   "outputs": [
    {
     "data": {
      "text/plain": [
       "array([[1., 0., 0.],\n",
       "       [0., 1., 0.],\n",
       "       [0., 0., 1.]])"
      ]
     },
     "execution_count": 54,
     "metadata": {},
     "output_type": "execute_result"
    }
   ],
   "source": [
    "identity_matrix"
   ]
  },
  {
   "cell_type": "code",
   "execution_count": 56,
   "id": "6426d6e3-0840-4cb8-b6ae-9f7c1b0f6341",
   "metadata": {},
   "outputs": [],
   "source": [
    "identity_matrix_mult2 = identity_matrix * 2"
   ]
  },
  {
   "cell_type": "code",
   "execution_count": 57,
   "id": "4c63ef8d-c2d8-4de3-b3e9-46318e79cb6f",
   "metadata": {},
   "outputs": [
    {
     "data": {
      "text/plain": [
       "array([[2., 0., 0.],\n",
       "       [0., 2., 0.],\n",
       "       [0., 0., 2.]])"
      ]
     },
     "execution_count": 57,
     "metadata": {},
     "output_type": "execute_result"
    }
   ],
   "source": [
    "identity_matrix_mult2"
   ]
  },
  {
   "cell_type": "code",
   "execution_count": 58,
   "id": "e273e403-51c2-4e94-a824-7c89ee649849",
   "metadata": {},
   "outputs": [
    {
     "data": {
      "text/plain": [
       "array([[0.5, 0. , 0. ],\n",
       "       [0. , 0.5, 0. ],\n",
       "       [0. , 0. , 0.5]])"
      ]
     },
     "execution_count": 58,
     "metadata": {},
     "output_type": "execute_result"
    }
   ],
   "source": [
    "np.linalg.inv(identity_matrix_mult2)"
   ]
  },
  {
   "cell_type": "markdown",
   "id": "8256a017-1b86-46cc-a90a-12256822fbc2",
   "metadata": {},
   "source": [
    "# 8."
   ]
  },
  {
   "cell_type": "code",
   "execution_count": 60,
   "id": "c93e5c77-6cdf-440a-95fb-87b64d29fc0f",
   "metadata": {},
   "outputs": [],
   "source": [
    "eigenvalues, eigenvectors = np.linalg.eig(data[:3, :3])"
   ]
  },
  {
   "cell_type": "code",
   "execution_count": 61,
   "id": "5672bc90-208f-4613-994b-8bea2fa27d75",
   "metadata": {},
   "outputs": [
    {
     "data": {
      "text/plain": [
       "array([ 63.26585947, -15.04927481,  20.78341534])"
      ]
     },
     "execution_count": 61,
     "metadata": {},
     "output_type": "execute_result"
    }
   ],
   "source": [
    "eigenvalues"
   ]
  },
  {
   "cell_type": "code",
   "execution_count": 62,
   "id": "a1329876-4274-4f6d-b781-f6d26da7fd07",
   "metadata": {},
   "outputs": [
    {
     "data": {
      "text/plain": [
       "array([[ 0.71824772,  0.88772012,  0.52701396],\n",
       "       [ 0.66517962, -0.14467294, -0.81538897],\n",
       "       [ 0.20409872, -0.43706146,  0.23957695]])"
      ]
     },
     "execution_count": 62,
     "metadata": {},
     "output_type": "execute_result"
    }
   ],
   "source": [
    "eigenvectors"
   ]
  },
  {
   "cell_type": "markdown",
   "id": "4d61283b-b69c-4d09-8a23-dcb0ab031d2e",
   "metadata": {},
   "source": [
    "# 9."
   ]
  },
  {
   "cell_type": "code",
   "execution_count": 101,
   "id": "635a7257-b25a-4e7a-811c-f33600bffcb4",
   "metadata": {},
   "outputs": [],
   "source": [
    "mask = np.random.choice(data.size, 5)"
   ]
  },
  {
   "cell_type": "code",
   "execution_count": 102,
   "id": "3b8b97cd-07cd-47f3-a4e9-ce40a3e7d3b7",
   "metadata": {},
   "outputs": [
    {
     "data": {
      "text/plain": [
       "array([ 3,  5, 10, 23, 14])"
      ]
     },
     "execution_count": 102,
     "metadata": {},
     "output_type": "execute_result"
    }
   ],
   "source": [
    "mask"
   ]
  },
  {
   "cell_type": "code",
   "execution_count": 103,
   "id": "5175404e-a2f5-4687-9b9a-ac8d6543fe2f",
   "metadata": {},
   "outputs": [],
   "source": [
    "data_matrix_copy = data[:].astype('float')"
   ]
  },
  {
   "cell_type": "code",
   "execution_count": 104,
   "id": "8f657a61-472b-4420-aeff-31ab8f4d78cc",
   "metadata": {},
   "outputs": [
    {
     "data": {
      "text/plain": [
       "array([[23., 22., 70.,  2., 53.],\n",
       "       [18., 38., 19., 88., 29.],\n",
       "       [12.,  4.,  8., 72., 29.],\n",
       "       [45., 82., 30., 95., 84.],\n",
       "       [76., 40.,  7., 70., 38.]])"
      ]
     },
     "execution_count": 104,
     "metadata": {},
     "output_type": "execute_result"
    }
   ],
   "source": [
    "data_matrix_copy"
   ]
  },
  {
   "cell_type": "code",
   "execution_count": 105,
   "id": "00528e29-0105-4edb-8ee1-b6138aca40f4",
   "metadata": {},
   "outputs": [],
   "source": [
    "data_matrix_copy.flat[mask] = np.nan"
   ]
  },
  {
   "cell_type": "code",
   "execution_count": 106,
   "id": "bea058f7-febd-4ae9-9add-0ddfa946bccb",
   "metadata": {},
   "outputs": [
    {
     "data": {
      "text/plain": [
       "array([[23., 22., 70., nan, 53.],\n",
       "       [nan, 38., 19., 88., 29.],\n",
       "       [nan,  4.,  8., 72., nan],\n",
       "       [45., 82., 30., 95., 84.],\n",
       "       [76., 40.,  7., nan, 38.]])"
      ]
     },
     "execution_count": 106,
     "metadata": {},
     "output_type": "execute_result"
    }
   ],
   "source": [
    "data_matrix_copy"
   ]
  },
  {
   "cell_type": "code",
   "execution_count": 107,
   "id": "d3aee36b-5dbe-4ecc-87d1-579a5486602d",
   "metadata": {},
   "outputs": [],
   "source": [
    "missing_value_indices = np.where(np.isnan(data_matrix_copy))"
   ]
  },
  {
   "cell_type": "code",
   "execution_count": 108,
   "id": "3748d339-a7dc-4cde-8148-7dc1b85198d8",
   "metadata": {},
   "outputs": [
    {
     "data": {
      "text/plain": [
       "(array([0, 1, 2, 2, 4], dtype=int64), array([3, 0, 0, 4, 3], dtype=int64))"
      ]
     },
     "execution_count": 108,
     "metadata": {},
     "output_type": "execute_result"
    }
   ],
   "source": [
    "missing_value_indices"
   ]
  },
  {
   "cell_type": "markdown",
   "id": "7fd38aa7-8bb5-44dc-a0a0-e67dda1dd19f",
   "metadata": {},
   "source": [
    "# 10."
   ]
  },
  {
   "cell_type": "code",
   "execution_count": 111,
   "id": "315a9f83-337a-43d8-8d22-9350ce65816a",
   "metadata": {},
   "outputs": [
    {
     "data": {
      "text/plain": [
       "array([[23., 22., 70., nan, 53.],\n",
       "       [nan, 38., 19., 88., 29.],\n",
       "       [nan,  4.,  8., 72., nan],\n",
       "       [45., 82., 30., 95., 84.],\n",
       "       [76., 40.,  7., nan, 38.]])"
      ]
     },
     "execution_count": 111,
     "metadata": {},
     "output_type": "execute_result"
    }
   ],
   "source": [
    "data_matrix_copy"
   ]
  },
  {
   "cell_type": "code",
   "execution_count": 112,
   "id": "3153fc62-3dd1-4c88-8725-6b3ff793dbfd",
   "metadata": {},
   "outputs": [],
   "source": [
    "mean_value = np.nanmean(data)"
   ]
  },
  {
   "cell_type": "code",
   "execution_count": 113,
   "id": "925e98ff-5df6-443f-af31-e18de962e683",
   "metadata": {},
   "outputs": [
    {
     "data": {
      "text/plain": [
       "42.16"
      ]
     },
     "execution_count": 113,
     "metadata": {},
     "output_type": "execute_result"
    }
   ],
   "source": [
    "mean_value"
   ]
  },
  {
   "cell_type": "code",
   "execution_count": 116,
   "id": "d19519cc-126b-4158-a5e9-3a0d180b1f74",
   "metadata": {},
   "outputs": [],
   "source": [
    "data_matrix_copy[np.isnan(data_matrix_copy)] = mean_value"
   ]
  },
  {
   "cell_type": "code",
   "execution_count": 117,
   "id": "853a41c7-c55c-4baa-855b-f85a8836108e",
   "metadata": {},
   "outputs": [
    {
     "data": {
      "text/plain": [
       "array([[23.  , 22.  , 70.  , 42.16, 53.  ],\n",
       "       [42.16, 38.  , 19.  , 88.  , 29.  ],\n",
       "       [42.16,  4.  ,  8.  , 72.  , 42.16],\n",
       "       [45.  , 82.  , 30.  , 95.  , 84.  ],\n",
       "       [76.  , 40.  ,  7.  , 42.16, 38.  ]])"
      ]
     },
     "execution_count": 117,
     "metadata": {},
     "output_type": "execute_result"
    }
   ],
   "source": [
    "data_matrix_copy"
   ]
  }
 ],
 "metadata": {
  "kernelspec": {
   "display_name": "Python 3 (ipykernel)",
   "language": "python",
   "name": "python3"
  },
  "language_info": {
   "codemirror_mode": {
    "name": "ipython",
    "version": 3
   },
   "file_extension": ".py",
   "mimetype": "text/x-python",
   "name": "python",
   "nbconvert_exporter": "python",
   "pygments_lexer": "ipython3",
   "version": "3.11.4"
  }
 },
 "nbformat": 4,
 "nbformat_minor": 5
}
