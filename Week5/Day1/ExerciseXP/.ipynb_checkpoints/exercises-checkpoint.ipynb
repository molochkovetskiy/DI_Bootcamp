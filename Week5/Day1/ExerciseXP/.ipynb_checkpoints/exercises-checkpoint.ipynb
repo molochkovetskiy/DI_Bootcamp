{
 "cells": [
  {
   "cell_type": "markdown",
   "id": "c85603f5-694a-412a-b881-5bcafdc6029c",
   "metadata": {},
   "source": [
    "### 1."
   ]
  },
  {
   "cell_type": "code",
   "execution_count": 1,
   "id": "c62f951f-f5e1-4d35-b3ce-22f613342ebe",
   "metadata": {},
   "outputs": [],
   "source": [
    "import numpy as np"
   ]
  },
  {
   "cell_type": "markdown",
   "id": "a905080c-b682-47e5-bb30-78e37f3dd420",
   "metadata": {},
   "source": [
    "### 2."
   ]
  },
  {
   "cell_type": "code",
   "execution_count": 3,
   "id": "ad2b310d-6a82-49f1-8dab-f413ec0bc85c",
   "metadata": {},
   "outputs": [],
   "source": [
    "zero_array = np.zeros(10)"
   ]
  },
  {
   "cell_type": "code",
   "execution_count": 4,
   "id": "868c27e6-c222-49d8-b22c-be9af7c23b6f",
   "metadata": {},
   "outputs": [
    {
     "data": {
      "text/plain": [
       "array([0., 0., 0., 0., 0., 0., 0., 0., 0., 0.])"
      ]
     },
     "execution_count": 4,
     "metadata": {},
     "output_type": "execute_result"
    }
   ],
   "source": [
    "zero_array"
   ]
  },
  {
   "cell_type": "markdown",
   "id": "ce51e0ea-7623-404c-93ca-20cf34c49f01",
   "metadata": {},
   "source": [
    "### 3."
   ]
  },
  {
   "cell_type": "code",
   "execution_count": 7,
   "id": "40077b41-78f0-425b-9adc-458dc722a88d",
   "metadata": {},
   "outputs": [],
   "source": [
    "array = np.arange(1, 11)"
   ]
  },
  {
   "cell_type": "code",
   "execution_count": 10,
   "id": "b37e0074-d0c7-43d8-a207-2d8a024444e2",
   "metadata": {},
   "outputs": [],
   "source": [
    "item_size = array.itemsize"
   ]
  },
  {
   "cell_type": "code",
   "execution_count": 12,
   "id": "23b318fa-c7e0-4c2f-b07d-558b6c23248c",
   "metadata": {},
   "outputs": [],
   "source": [
    "len_of_array = len(array) * item_size"
   ]
  },
  {
   "cell_type": "code",
   "execution_count": 13,
   "id": "f89ba563-3f61-4735-b759-fab951b15a1e",
   "metadata": {},
   "outputs": [
    {
     "data": {
      "text/plain": [
       "40"
      ]
     },
     "execution_count": 13,
     "metadata": {},
     "output_type": "execute_result"
    }
   ],
   "source": [
    "len_of_array"
   ]
  },
  {
   "cell_type": "markdown",
   "id": "f8d54e31-55a1-492f-b652-8761de9d79aa",
   "metadata": {},
   "source": [
    "### 4."
   ]
  },
  {
   "cell_type": "code",
   "execution_count": 18,
   "id": "bf298490-b90c-4817-89d8-99812ccc3944",
   "metadata": {},
   "outputs": [
    {
     "name": "stdout",
     "output_type": "stream",
     "text": [
      "add(x1, x2, /, out=None, *, where=True, casting='same_kind', order='K', dtype=None, subok=True[, signature, extobj])\n",
      "\n",
      "Add arguments element-wise.\n",
      "\n",
      "Parameters\n",
      "----------\n",
      "x1, x2 : array_like\n",
      "    The arrays to be added.\n",
      "    If ``x1.shape != x2.shape``, they must be broadcastable to a common\n",
      "    shape (which becomes the shape of the output).\n",
      "out : ndarray, None, or tuple of ndarray and None, optional\n",
      "    A location into which the result is stored. If provided, it must have\n",
      "    a shape that the inputs broadcast to. If not provided or None,\n",
      "    a freshly-allocated array is returned. A tuple (possible only as a\n",
      "    keyword argument) must have length equal to the number of outputs.\n",
      "where : array_like, optional\n",
      "    This condition is broadcast over the input. At locations where the\n",
      "    condition is True, the `out` array will be set to the ufunc result.\n",
      "    Elsewhere, the `out` array will retain its original value.\n",
      "    Note that if an uninitialized `out` array is created via the default\n",
      "    ``out=None``, locations within it where the condition is False will\n",
      "    remain uninitialized.\n",
      "**kwargs\n",
      "    For other keyword-only arguments, see the\n",
      "    :ref:`ufunc docs <ufuncs.kwargs>`.\n",
      "\n",
      "Returns\n",
      "-------\n",
      "add : ndarray or scalar\n",
      "    The sum of `x1` and `x2`, element-wise.\n",
      "    This is a scalar if both `x1` and `x2` are scalars.\n",
      "\n",
      "Notes\n",
      "-----\n",
      "Equivalent to `x1` + `x2` in terms of array broadcasting.\n",
      "\n",
      "Examples\n",
      "--------\n",
      ">>> np.add(1.0, 4.0)\n",
      "5.0\n",
      ">>> x1 = np.arange(9.0).reshape((3, 3))\n",
      ">>> x2 = np.arange(3.0)\n",
      ">>> np.add(x1, x2)\n",
      "array([[  0.,   2.,   4.],\n",
      "       [  3.,   5.,   7.],\n",
      "       [  6.,   8.,  10.]])\n",
      "\n",
      "The ``+`` operator can be used as a shorthand for ``np.add`` on ndarrays.\n",
      "\n",
      ">>> x1 = np.arange(9.0).reshape((3, 3))\n",
      ">>> x2 = np.arange(3.0)\n",
      ">>> x1 + x2\n",
      "array([[ 0.,  2.,  4.],\n",
      "       [ 3.,  5.,  7.],\n",
      "       [ 6.,  8., 10.]])\n"
     ]
    }
   ],
   "source": [
    "np.info(np. add)"
   ]
  },
  {
   "cell_type": "markdown",
   "id": "b1827d99-546a-4ee9-beb4-0919a494db4d",
   "metadata": {},
   "source": [
    "### 5."
   ]
  },
  {
   "cell_type": "code",
   "execution_count": 20,
   "id": "4070986f-db05-44d9-98aa-eaba15085a85",
   "metadata": {},
   "outputs": [],
   "source": [
    "array = np.arange(10, 50)"
   ]
  },
  {
   "cell_type": "markdown",
   "id": "17571e8a-6b0c-4215-b819-92bd0b98cb94",
   "metadata": {},
   "source": [
    "### 6."
   ]
  },
  {
   "cell_type": "code",
   "execution_count": 21,
   "id": "398c0a27-f782-494b-83cc-38184f7b862b",
   "metadata": {},
   "outputs": [],
   "source": [
    "reverse_array = array[::-1]"
   ]
  },
  {
   "cell_type": "code",
   "execution_count": 22,
   "id": "fe7c1bea-e437-4a6a-a9bd-7e86ce05d07d",
   "metadata": {},
   "outputs": [
    {
     "data": {
      "text/plain": [
       "array([49, 48, 47, 46, 45, 44, 43, 42, 41, 40, 39, 38, 37, 36, 35, 34, 33,\n",
       "       32, 31, 30, 29, 28, 27, 26, 25, 24, 23, 22, 21, 20, 19, 18, 17, 16,\n",
       "       15, 14, 13, 12, 11, 10])"
      ]
     },
     "execution_count": 22,
     "metadata": {},
     "output_type": "execute_result"
    }
   ],
   "source": [
    "reverse_array"
   ]
  },
  {
   "cell_type": "markdown",
   "id": "69c17f71-6ce1-4f45-bb1e-b7516100d734",
   "metadata": {},
   "source": [
    "### 7."
   ]
  },
  {
   "cell_type": "code",
   "execution_count": 24,
   "id": "16ee941f-acc8-415b-b356-c1659d272918",
   "metadata": {},
   "outputs": [],
   "source": [
    "array = np.arange(9)"
   ]
  },
  {
   "cell_type": "code",
   "execution_count": 27,
   "id": "ab4bb798-721a-4ddd-b828-eae6e41fb520",
   "metadata": {},
   "outputs": [],
   "source": [
    "array = array.reshape(3, 3)"
   ]
  },
  {
   "cell_type": "code",
   "execution_count": 28,
   "id": "451cb41d-4eb3-4b62-83ad-4bc1bf37e56e",
   "metadata": {},
   "outputs": [
    {
     "data": {
      "text/plain": [
       "array([[0, 1, 2],\n",
       "       [3, 4, 5],\n",
       "       [6, 7, 8]])"
      ]
     },
     "execution_count": 28,
     "metadata": {},
     "output_type": "execute_result"
    }
   ],
   "source": [
    "array"
   ]
  },
  {
   "cell_type": "markdown",
   "id": "1238b162-da20-4351-954d-0c24519928b5",
   "metadata": {},
   "source": [
    "### 8."
   ]
  },
  {
   "cell_type": "code",
   "execution_count": 32,
   "id": "3a301afd-1d26-4d90-92be-287a0cb6ae91",
   "metadata": {},
   "outputs": [],
   "source": [
    "array = np.array([1,2,0,0,4,0])"
   ]
  },
  {
   "cell_type": "code",
   "execution_count": 33,
   "id": "10f7924f-149a-43ef-a0e7-a4ed54fcde8b",
   "metadata": {},
   "outputs": [
    {
     "data": {
      "text/plain": [
       "(array([0, 1, 4], dtype=int64),)"
      ]
     },
     "execution_count": 33,
     "metadata": {},
     "output_type": "execute_result"
    }
   ],
   "source": [
    "array.nonzero()"
   ]
  },
  {
   "cell_type": "markdown",
   "id": "6cf856c3-7d64-47ad-8196-4683e960152c",
   "metadata": {},
   "source": [
    "### 9."
   ]
  },
  {
   "cell_type": "code",
   "execution_count": 35,
   "id": "3c3bcd9b-da76-4982-b63b-203fee61ca04",
   "metadata": {},
   "outputs": [
    {
     "data": {
      "text/plain": [
       "array([[1., 0., 0.],\n",
       "       [0., 1., 0.],\n",
       "       [0., 0., 1.]])"
      ]
     },
     "execution_count": 35,
     "metadata": {},
     "output_type": "execute_result"
    }
   ],
   "source": [
    "np.eye(3)"
   ]
  },
  {
   "cell_type": "markdown",
   "id": "f9db3e7e-fc6e-408b-83d3-2f574d0dec94",
   "metadata": {},
   "source": [
    "### 10."
   ]
  },
  {
   "cell_type": "code",
   "execution_count": 124,
   "id": "255e270a-262f-4e09-b364-baabcb06ed60",
   "metadata": {},
   "outputs": [],
   "source": [
    "matrix_five = np.full((5,5), np.arange(0, 5, dtype='float'))"
   ]
  },
  {
   "cell_type": "code",
   "execution_count": 125,
   "id": "4597b0d9-821b-4d20-8859-447548f35a60",
   "metadata": {},
   "outputs": [
    {
     "data": {
      "text/plain": [
       "array([[0., 1., 2., 3., 4.],\n",
       "       [0., 1., 2., 3., 4.],\n",
       "       [0., 1., 2., 3., 4.],\n",
       "       [0., 1., 2., 3., 4.],\n",
       "       [0., 1., 2., 3., 4.]])"
      ]
     },
     "execution_count": 125,
     "metadata": {},
     "output_type": "execute_result"
    }
   ],
   "source": [
    "matrix_five"
   ]
  },
  {
   "cell_type": "markdown",
   "id": "a3156437-bdbb-4bc4-9ea7-f24916cdac85",
   "metadata": {},
   "source": [
    "### 11."
   ]
  },
  {
   "cell_type": "code",
   "execution_count": 58,
   "id": "d756eb3e-674b-449f-9ee9-3060626695a1",
   "metadata": {},
   "outputs": [
    {
     "data": {
      "text/plain": [
       "array([0.09090909, 0.18181818, 0.27272727, 0.36363636, 0.45454545,\n",
       "       0.54545455, 0.63636364, 0.72727273, 0.81818182, 0.90909091])"
      ]
     },
     "execution_count": 58,
     "metadata": {},
     "output_type": "execute_result"
    }
   ],
   "source": [
    "np.linspace(0, 1, 12)[1:-1]"
   ]
  },
  {
   "cell_type": "markdown",
   "id": "648f3ae0-545f-4a55-b63f-48af2f8b3d1e",
   "metadata": {},
   "source": [
    "### 12."
   ]
  },
  {
   "cell_type": "code",
   "execution_count": 84,
   "id": "7a751e6d-4232-4312-a78e-7cc1fc5d7ec7",
   "metadata": {},
   "outputs": [],
   "source": [
    "array = np.random.rand(10)"
   ]
  },
  {
   "cell_type": "code",
   "execution_count": 85,
   "id": "68d4eb57-a15c-4fd3-9d77-5533d2c0a44c",
   "metadata": {},
   "outputs": [
    {
     "data": {
      "text/plain": [
       "array([0.63766459, 0.83341006, 0.23524131, 0.04964001, 0.30421097,\n",
       "       0.35668508, 0.25290047, 0.71602107, 0.95075721, 0.27900328])"
      ]
     },
     "execution_count": 85,
     "metadata": {},
     "output_type": "execute_result"
    }
   ],
   "source": [
    "array"
   ]
  },
  {
   "cell_type": "code",
   "execution_count": 86,
   "id": "b0fcf51f-ab2b-4c1d-80cf-0318c593bc2f",
   "metadata": {},
   "outputs": [
    {
     "data": {
      "text/plain": [
       "array([0.04964001, 0.23524131, 0.25290047, 0.27900328, 0.30421097,\n",
       "       0.35668508, 0.63766459, 0.71602107, 0.83341006, 0.95075721])"
      ]
     },
     "execution_count": 86,
     "metadata": {},
     "output_type": "execute_result"
    }
   ],
   "source": [
    "np.sort(array)"
   ]
  },
  {
   "cell_type": "markdown",
   "id": "46effe55-6e79-4232-ac9e-4152efd7528d",
   "metadata": {},
   "source": [
    "### 13."
   ]
  },
  {
   "cell_type": "code",
   "execution_count": 76,
   "id": "e0047613-6fe3-45ef-ad58-132ceeee2bfc",
   "metadata": {},
   "outputs": [
    {
     "data": {
      "text/plain": [
       "iinfo(min=-128, max=127, dtype=int8)"
      ]
     },
     "execution_count": 76,
     "metadata": {},
     "output_type": "execute_result"
    }
   ],
   "source": [
    "np.iinfo('int8')"
   ]
  },
  {
   "cell_type": "code",
   "execution_count": 77,
   "id": "fb096853-639f-4252-8761-540094da19c0",
   "metadata": {},
   "outputs": [
    {
     "data": {
      "text/plain": [
       "iinfo(min=-2147483648, max=2147483647, dtype=int32)"
      ]
     },
     "execution_count": 77,
     "metadata": {},
     "output_type": "execute_result"
    }
   ],
   "source": [
    "np.iinfo('int32')"
   ]
  },
  {
   "cell_type": "code",
   "execution_count": 78,
   "id": "3d8d8c45-7afd-4a01-b129-53a44a599375",
   "metadata": {},
   "outputs": [
    {
     "data": {
      "text/plain": [
       "iinfo(min=-9223372036854775808, max=9223372036854775807, dtype=int64)"
      ]
     },
     "execution_count": 78,
     "metadata": {},
     "output_type": "execute_result"
    }
   ],
   "source": [
    "np.iinfo('int64')"
   ]
  },
  {
   "cell_type": "code",
   "execution_count": 80,
   "id": "f0e4ad38-204f-4df1-b697-8e19de122653",
   "metadata": {},
   "outputs": [
    {
     "data": {
      "text/plain": [
       "finfo(resolution=1e-06, min=-3.4028235e+38, max=3.4028235e+38, dtype=float32)"
      ]
     },
     "execution_count": 80,
     "metadata": {},
     "output_type": "execute_result"
    }
   ],
   "source": [
    "np.finfo('float32')"
   ]
  },
  {
   "cell_type": "code",
   "execution_count": 81,
   "id": "157093f8-5fa1-4bc8-abb5-20d7c4c17a7d",
   "metadata": {},
   "outputs": [
    {
     "data": {
      "text/plain": [
       "finfo(resolution=1e-15, min=-1.7976931348623157e+308, max=1.7976931348623157e+308, dtype=float64)"
      ]
     },
     "execution_count": 81,
     "metadata": {},
     "output_type": "execute_result"
    }
   ],
   "source": [
    "np.finfo('float64')"
   ]
  },
  {
   "cell_type": "markdown",
   "id": "21d3e78a-5d4a-4f71-a906-402588d32a60",
   "metadata": {},
   "source": [
    "### 14."
   ]
  },
  {
   "cell_type": "code",
   "execution_count": 109,
   "id": "01e9cf1f-5e80-42ff-893e-ad7910083444",
   "metadata": {},
   "outputs": [],
   "source": [
    "array = np.arange(10, dtype = 'float32')"
   ]
  },
  {
   "cell_type": "code",
   "execution_count": 110,
   "id": "0b17f88d-6fa6-463d-a2d9-c9e255333aac",
   "metadata": {},
   "outputs": [
    {
     "data": {
      "text/plain": [
       "array([0., 1., 2., 3., 4., 5., 6., 7., 8., 9.], dtype=float32)"
      ]
     },
     "execution_count": 110,
     "metadata": {},
     "output_type": "execute_result"
    }
   ],
   "source": [
    "array"
   ]
  },
  {
   "cell_type": "code",
   "execution_count": 111,
   "id": "dddbffcb-3781-4c16-a883-5164a6222b4f",
   "metadata": {},
   "outputs": [],
   "source": [
    "float_array = array.astype('int32')"
   ]
  },
  {
   "cell_type": "code",
   "execution_count": 112,
   "id": "4a93b7f8-1745-4ab4-b47b-b5f229d36de2",
   "metadata": {},
   "outputs": [
    {
     "data": {
      "text/plain": [
       "dtype('int32')"
      ]
     },
     "execution_count": 112,
     "metadata": {},
     "output_type": "execute_result"
    }
   ],
   "source": [
    "float_array.dtype"
   ]
  },
  {
   "cell_type": "markdown",
   "id": "6dbed3bd-01d2-40a3-929b-a895e27db9ab",
   "metadata": {},
   "source": [
    "### 15."
   ]
  },
  {
   "cell_type": "code",
   "execution_count": 113,
   "id": "7d2c2560-b911-4d26-a41d-5cfb2a713980",
   "metadata": {},
   "outputs": [],
   "source": [
    "two_dim_array = np.arange(0, 25)"
   ]
  },
  {
   "cell_type": "code",
   "execution_count": 114,
   "id": "70951205-530c-4f47-984d-288c88582e37",
   "metadata": {},
   "outputs": [],
   "source": [
    "two_dim_array = two_dim_array.reshape((5, 5))"
   ]
  },
  {
   "cell_type": "code",
   "execution_count": 115,
   "id": "3d608efa-8869-4476-8cfd-cd4857fd390d",
   "metadata": {},
   "outputs": [
    {
     "data": {
      "text/plain": [
       "array([[ 0,  1,  2,  3,  4],\n",
       "       [ 5,  6,  7,  8,  9],\n",
       "       [10, 11, 12, 13, 14],\n",
       "       [15, 16, 17, 18, 19],\n",
       "       [20, 21, 22, 23, 24]])"
      ]
     },
     "execution_count": 115,
     "metadata": {},
     "output_type": "execute_result"
    }
   ],
   "source": [
    "two_dim_array"
   ]
  },
  {
   "cell_type": "code",
   "execution_count": 117,
   "id": "801df20e-ca7e-4007-844f-aee0ed897828",
   "metadata": {},
   "outputs": [
    {
     "data": {
      "text/plain": [
       "array([ 2.,  7., 12., 17., 22.])"
      ]
     },
     "execution_count": 117,
     "metadata": {},
     "output_type": "execute_result"
    }
   ],
   "source": [
    "two_dim_array.mean(axis=1)"
   ]
  },
  {
   "cell_type": "markdown",
   "id": "8d61f0be-b95a-4f26-ae24-8ce4bfb5ed54",
   "metadata": {},
   "source": [
    "### 16."
   ]
  },
  {
   "cell_type": "code",
   "execution_count": 144,
   "id": "cbb3107f-3441-48dc-b2c2-571a3740e712",
   "metadata": {},
   "outputs": [],
   "source": [
    "array = np.random.randint(0, 10, (3, 3))"
   ]
  },
  {
   "cell_type": "code",
   "execution_count": 145,
   "id": "4affb9ac-cd4f-45b1-b839-e96f1a0fca63",
   "metadata": {},
   "outputs": [
    {
     "data": {
      "text/plain": [
       "array([[5, 2, 5],\n",
       "       [8, 8, 6],\n",
       "       [7, 9, 1]])"
      ]
     },
     "execution_count": 145,
     "metadata": {},
     "output_type": "execute_result"
    }
   ],
   "source": [
    "array"
   ]
  },
  {
   "cell_type": "code",
   "execution_count": 146,
   "id": "9a2187b9-f3a8-493b-aedc-e8f7e2f9a1eb",
   "metadata": {},
   "outputs": [
    {
     "data": {
      "text/plain": [
       "array([[7, 9, 1],\n",
       "       [5, 2, 5],\n",
       "       [8, 8, 6]])"
      ]
     },
     "execution_count": 146,
     "metadata": {},
     "output_type": "execute_result"
    }
   ],
   "source": [
    "array[array[:, 2].argsort()]"
   ]
  },
  {
   "cell_type": "markdown",
   "id": "b9d7aef9-f913-4c40-b309-9b8538cc7e17",
   "metadata": {},
   "source": [
    "### 17."
   ]
  },
  {
   "cell_type": "code",
   "execution_count": 147,
   "id": "678c281a-eb24-48bc-bb40-9846f2caf23d",
   "metadata": {},
   "outputs": [],
   "source": [
    "array = np.random.randint(0, 10, (3, 3))"
   ]
  },
  {
   "cell_type": "code",
   "execution_count": 148,
   "id": "13c1425c-b506-4f9f-8106-e882df5c418d",
   "metadata": {},
   "outputs": [
    {
     "data": {
      "text/plain": [
       "array([[8, 2, 8],\n",
       "       [7, 8, 2],\n",
       "       [4, 3, 1]])"
      ]
     },
     "execution_count": 148,
     "metadata": {},
     "output_type": "execute_result"
    }
   ],
   "source": [
    "array"
   ]
  },
  {
   "cell_type": "code",
   "execution_count": 149,
   "id": "21142cb0-7f68-4eab-b3d8-fde8a87d5123",
   "metadata": {},
   "outputs": [],
   "source": [
    "array[[0, 1]] = array[[1, 0]]"
   ]
  },
  {
   "cell_type": "code",
   "execution_count": 150,
   "id": "2ee574db-0249-4662-abb9-fa75a7ce1108",
   "metadata": {},
   "outputs": [
    {
     "data": {
      "text/plain": [
       "array([[7, 8, 2],\n",
       "       [8, 2, 8],\n",
       "       [4, 3, 1]])"
      ]
     },
     "execution_count": 150,
     "metadata": {},
     "output_type": "execute_result"
    }
   ],
   "source": [
    "array"
   ]
  },
  {
   "cell_type": "markdown",
   "id": "2ea49747-bea5-4a99-9809-2cb665c05b83",
   "metadata": {},
   "source": [
    "### 18."
   ]
  },
  {
   "cell_type": "code",
   "execution_count": 156,
   "id": "07fdeb20-65e0-4bd7-8ae5-7728341c3004",
   "metadata": {},
   "outputs": [
    {
     "data": {
      "text/plain": [
       "array([0, 0, 1, 1, 1, 2])"
      ]
     },
     "execution_count": 156,
     "metadata": {},
     "output_type": "execute_result"
    }
   ],
   "source": [
    "np.repeat([0, 1, 2], [2, 3, 1])"
   ]
  }
 ],
 "metadata": {
  "kernelspec": {
   "display_name": "Python 3 (ipykernel)",
   "language": "python",
   "name": "python3"
  },
  "language_info": {
   "codemirror_mode": {
    "name": "ipython",
    "version": 3
   },
   "file_extension": ".py",
   "mimetype": "text/x-python",
   "name": "python",
   "nbconvert_exporter": "python",
   "pygments_lexer": "ipython3",
   "version": "3.11.4"
  }
 },
 "nbformat": 4,
 "nbformat_minor": 5
}
