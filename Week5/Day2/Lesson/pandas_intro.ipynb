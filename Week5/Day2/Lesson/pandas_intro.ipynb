{
 "cells": [
  {
   "cell_type": "code",
   "execution_count": 6,
   "id": "d9102dd9-5ec2-4c20-b6d6-ae5adcd9ae1a",
   "metadata": {},
   "outputs": [],
   "source": [
    "import pandas as pd\n",
    "import numpy as np"
   ]
  },
  {
   "cell_type": "code",
   "execution_count": 3,
   "id": "c6e875ad-006e-44da-b8a2-c1d35bb628d8",
   "metadata": {},
   "outputs": [
    {
     "data": {
      "text/plain": [
       "0    A\n",
       "1    B\n",
       "2    C\n",
       "dtype: object"
      ]
     },
     "execution_count": 3,
     "metadata": {},
     "output_type": "execute_result"
    }
   ],
   "source": [
    "# Series - 1 dim array of labeled data\n",
    "pd.Series(['A', 'B', 'C'])"
   ]
  },
  {
   "cell_type": "code",
   "execution_count": 9,
   "id": "c576ad5d-4c0d-4c6e-8e59-ad820d6883fb",
   "metadata": {},
   "outputs": [],
   "source": [
    "# Dataframe - 2 dim array of labeled data\n",
    "df = pd.DataFrame({\n",
    "    \"Name\": [\"Yossi\", \"Anna\", \"Alexey\"],\n",
    "    \"Color\": [\"Red\", \"Blue\", \"Yellow\"],\n",
    "    \"Random\": [10.0, np.nan, np.nan]\n",
    "})"
   ]
  },
  {
   "cell_type": "code",
   "execution_count": 10,
   "id": "7b5f29d3-ca83-4850-a0b2-7ff9928978b8",
   "metadata": {},
   "outputs": [
    {
     "data": {
      "text/html": [
       "<div>\n",
       "<style scoped>\n",
       "    .dataframe tbody tr th:only-of-type {\n",
       "        vertical-align: middle;\n",
       "    }\n",
       "\n",
       "    .dataframe tbody tr th {\n",
       "        vertical-align: top;\n",
       "    }\n",
       "\n",
       "    .dataframe thead th {\n",
       "        text-align: right;\n",
       "    }\n",
       "</style>\n",
       "<table border=\"1\" class=\"dataframe\">\n",
       "  <thead>\n",
       "    <tr style=\"text-align: right;\">\n",
       "      <th></th>\n",
       "      <th>Name</th>\n",
       "      <th>Color</th>\n",
       "      <th>Random</th>\n",
       "    </tr>\n",
       "  </thead>\n",
       "  <tbody>\n",
       "    <tr>\n",
       "      <th>0</th>\n",
       "      <td>Yossi</td>\n",
       "      <td>Red</td>\n",
       "      <td>10.0</td>\n",
       "    </tr>\n",
       "    <tr>\n",
       "      <th>1</th>\n",
       "      <td>Anna</td>\n",
       "      <td>Blue</td>\n",
       "      <td>NaN</td>\n",
       "    </tr>\n",
       "    <tr>\n",
       "      <th>2</th>\n",
       "      <td>Alexey</td>\n",
       "      <td>Yellow</td>\n",
       "      <td>NaN</td>\n",
       "    </tr>\n",
       "  </tbody>\n",
       "</table>\n",
       "</div>"
      ],
      "text/plain": [
       "     Name   Color  Random\n",
       "0   Yossi     Red    10.0\n",
       "1    Anna    Blue     NaN\n",
       "2  Alexey  Yellow     NaN"
      ]
     },
     "execution_count": 10,
     "metadata": {},
     "output_type": "execute_result"
    }
   ],
   "source": [
    "df"
   ]
  },
  {
   "cell_type": "code",
   "execution_count": 11,
   "id": "07e151a5-0185-4c01-8295-dda53a6f655f",
   "metadata": {},
   "outputs": [
    {
     "data": {
      "text/plain": [
       "0    10.0\n",
       "1     NaN\n",
       "2     NaN\n",
       "Name: Random, dtype: float64"
      ]
     },
     "execution_count": 11,
     "metadata": {},
     "output_type": "execute_result"
    }
   ],
   "source": [
    "df[\"Random\"]"
   ]
  },
  {
   "cell_type": "code",
   "execution_count": 13,
   "id": "53a13ab6-aa04-4394-9cab-ff9dfd939484",
   "metadata": {},
   "outputs": [],
   "source": [
    "df.to_csv('data.csv', index=False)"
   ]
  },
  {
   "cell_type": "markdown",
   "id": "606f91f3-fa76-4543-9e4f-32d6c12c9c06",
   "metadata": {},
   "source": [
    "# Exercise 1"
   ]
  },
  {
   "cell_type": "code",
   "execution_count": 24,
   "id": "79d3f3bf-d044-42a4-a718-b51b6fc0ff47",
   "metadata": {},
   "outputs": [],
   "source": [
    "my_series = pd.Series([20, 30, 15, 10], index=['Apples', 'Bananas', 'Cherries', 'Daes'])"
   ]
  },
  {
   "cell_type": "code",
   "execution_count": 25,
   "id": "2abf1c72-fc5d-4cd2-a264-8eaff5e73450",
   "metadata": {},
   "outputs": [
    {
     "data": {
      "text/plain": [
       "Apples      20\n",
       "Bananas     30\n",
       "Cherries    15\n",
       "Daes        10\n",
       "dtype: int64"
      ]
     },
     "execution_count": 25,
     "metadata": {},
     "output_type": "execute_result"
    }
   ],
   "source": [
    "my_series"
   ]
  },
  {
   "cell_type": "markdown",
   "id": "b56a253b-683b-4d9b-820e-5247dec20fc1",
   "metadata": {},
   "source": [
    "# Exercise 2"
   ]
  },
  {
   "cell_type": "code",
   "execution_count": 32,
   "id": "44f712a8-63f2-4b3f-ae96-fc0f3d8cb90e",
   "metadata": {},
   "outputs": [],
   "source": [
    "my_df = pd.DataFrame({\n",
    "    \"Quantity\": [20, 30, 15, 10],\n",
    "    \"Color\": [\"Red\", \"Yellow\", \"Red\", \"Brown\"],\n",
    "    \"Price_per_kg\": [3, 2, 4, 5]\n",
    "}, index=['Apples', 'Bananas', 'Cherries', 'Dates'])"
   ]
  },
  {
   "cell_type": "code",
   "execution_count": 33,
   "id": "cbc7760d-2381-4879-992b-b6a5813a63a4",
   "metadata": {},
   "outputs": [
    {
     "data": {
      "text/html": [
       "<div>\n",
       "<style scoped>\n",
       "    .dataframe tbody tr th:only-of-type {\n",
       "        vertical-align: middle;\n",
       "    }\n",
       "\n",
       "    .dataframe tbody tr th {\n",
       "        vertical-align: top;\n",
       "    }\n",
       "\n",
       "    .dataframe thead th {\n",
       "        text-align: right;\n",
       "    }\n",
       "</style>\n",
       "<table border=\"1\" class=\"dataframe\">\n",
       "  <thead>\n",
       "    <tr style=\"text-align: right;\">\n",
       "      <th></th>\n",
       "      <th>Quantity</th>\n",
       "      <th>Color</th>\n",
       "      <th>Price_per_kg</th>\n",
       "    </tr>\n",
       "  </thead>\n",
       "  <tbody>\n",
       "    <tr>\n",
       "      <th>Apples</th>\n",
       "      <td>20</td>\n",
       "      <td>Red</td>\n",
       "      <td>3</td>\n",
       "    </tr>\n",
       "    <tr>\n",
       "      <th>Bananas</th>\n",
       "      <td>30</td>\n",
       "      <td>Yellow</td>\n",
       "      <td>2</td>\n",
       "    </tr>\n",
       "    <tr>\n",
       "      <th>Cherries</th>\n",
       "      <td>15</td>\n",
       "      <td>Red</td>\n",
       "      <td>4</td>\n",
       "    </tr>\n",
       "    <tr>\n",
       "      <th>Dates</th>\n",
       "      <td>10</td>\n",
       "      <td>Brown</td>\n",
       "      <td>5</td>\n",
       "    </tr>\n",
       "  </tbody>\n",
       "</table>\n",
       "</div>"
      ],
      "text/plain": [
       "          Quantity   Color  Price_per_kg\n",
       "Apples          20     Red             3\n",
       "Bananas         30  Yellow             2\n",
       "Cherries        15     Red             4\n",
       "Dates           10   Brown             5"
      ]
     },
     "execution_count": 33,
     "metadata": {},
     "output_type": "execute_result"
    }
   ],
   "source": [
    "my_df\n"
   ]
  },
  {
   "cell_type": "code",
   "execution_count": 34,
   "id": "1a2b308a-99e1-4190-9ca4-bcd8da9a1764",
   "metadata": {},
   "outputs": [
    {
     "data": {
      "text/plain": [
       "Quantity         20\n",
       "Color           Red\n",
       "Price_per_kg      3\n",
       "Name: Apples, dtype: object"
      ]
     },
     "execution_count": 34,
     "metadata": {},
     "output_type": "execute_result"
    }
   ],
   "source": [
    "my_df.loc[\"Apples\"]"
   ]
  },
  {
   "cell_type": "code",
   "execution_count": 37,
   "id": "0826e4fc-bdd6-43bf-9a5c-8eba046560fe",
   "metadata": {},
   "outputs": [
    {
     "data": {
      "text/plain": [
       "Quantity            30\n",
       "Color           Yellow\n",
       "Price_per_kg         2\n",
       "Name: Bananas, dtype: object"
      ]
     },
     "execution_count": 37,
     "metadata": {},
     "output_type": "execute_result"
    }
   ],
   "source": [
    "my_df.iloc[1]"
   ]
  },
  {
   "cell_type": "code",
   "execution_count": 35,
   "id": "e977abf7-4667-44bc-91d2-65437ecce54d",
   "metadata": {},
   "outputs": [],
   "source": [
    "my_df.to_csv('store_1_stock.csv')"
   ]
  },
  {
   "cell_type": "markdown",
   "id": "54155a0a-aebd-440c-89a8-1b14b860bd22",
   "metadata": {},
   "source": [
    "# Exercise 3"
   ]
  },
  {
   "cell_type": "code",
   "execution_count": 40,
   "id": "73313d43-17d2-4b08-886d-35f8d0520666",
   "metadata": {},
   "outputs": [
    {
     "data": {
      "text/html": [
       "<div>\n",
       "<style scoped>\n",
       "    .dataframe tbody tr th:only-of-type {\n",
       "        vertical-align: middle;\n",
       "    }\n",
       "\n",
       "    .dataframe tbody tr th {\n",
       "        vertical-align: top;\n",
       "    }\n",
       "\n",
       "    .dataframe thead th {\n",
       "        text-align: right;\n",
       "    }\n",
       "</style>\n",
       "<table border=\"1\" class=\"dataframe\">\n",
       "  <thead>\n",
       "    <tr style=\"text-align: right;\">\n",
       "      <th></th>\n",
       "      <th>Quantity</th>\n",
       "      <th>Color</th>\n",
       "      <th>Price_per_kg</th>\n",
       "    </tr>\n",
       "  </thead>\n",
       "  <tbody>\n",
       "    <tr>\n",
       "      <th>Apples</th>\n",
       "      <td>20</td>\n",
       "      <td>Red</td>\n",
       "      <td>3</td>\n",
       "    </tr>\n",
       "    <tr>\n",
       "      <th>Bananas</th>\n",
       "      <td>30</td>\n",
       "      <td>Yellow</td>\n",
       "      <td>2</td>\n",
       "    </tr>\n",
       "    <tr>\n",
       "      <th>Cherries</th>\n",
       "      <td>15</td>\n",
       "      <td>Red</td>\n",
       "      <td>4</td>\n",
       "    </tr>\n",
       "    <tr>\n",
       "      <th>Dates</th>\n",
       "      <td>10</td>\n",
       "      <td>Brown</td>\n",
       "      <td>5</td>\n",
       "    </tr>\n",
       "  </tbody>\n",
       "</table>\n",
       "</div>"
      ],
      "text/plain": [
       "          Quantity   Color  Price_per_kg\n",
       "Apples          20     Red             3\n",
       "Bananas         30  Yellow             2\n",
       "Cherries        15     Red             4\n",
       "Dates           10   Brown             5"
      ]
     },
     "execution_count": 40,
     "metadata": {},
     "output_type": "execute_result"
    }
   ],
   "source": [
    "store_1_stock = pd.read_csv('store_1_stock.csv', index_col=0)\n",
    "store_1_stock"
   ]
  }
 ],
 "metadata": {
  "kernelspec": {
   "display_name": "Python 3 (ipykernel)",
   "language": "python",
   "name": "python3"
  },
  "language_info": {
   "codemirror_mode": {
    "name": "ipython",
    "version": 3
   },
   "file_extension": ".py",
   "mimetype": "text/x-python",
   "name": "python",
   "nbconvert_exporter": "python",
   "pygments_lexer": "ipython3",
   "version": "3.11.4"
  }
 },
 "nbformat": 4,
 "nbformat_minor": 5
}
